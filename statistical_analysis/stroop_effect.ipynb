{
 "cells": [
  {
   "cell_type": "markdown",
   "metadata": {},
   "source": [
    "# The Stroop Effect\n",
    "\n",
    "Thomas Nececkas"
   ]
  },
  {
   "cell_type": "code",
   "execution_count": 1,
   "metadata": {},
   "outputs": [
    {
     "data": {
      "text/html": [
       "<script>\n",
       "code_show=true; \n",
       "function code_toggle() {\n",
       " if (code_show){\n",
       " $('div.input').hide();\n",
       " } else {\n",
       " $('div.input').show();\n",
       " }\n",
       " code_show = !code_show\n",
       "} \n",
       "$( document ).ready(code_toggle);\n",
       "</script>\n",
       "<form action=\"javascript:code_toggle()\"><input type=\"submit\" value=\"Click here to toggle on/off the raw code.\"></form>"
      ],
      "text/plain": [
       "<IPython.core.display.HTML object>"
      ]
     },
     "execution_count": 1,
     "metadata": {},
     "output_type": "execute_result"
    }
   ],
   "source": [
    "import numpy as np\n",
    "import pandas as pd\n",
    "import matplotlib.pyplot as plt\n",
    "import matplotlib.ticker as ticker\n",
    "import math\n",
    "import scipy.stats as stats\n",
    "from IPython.display import HTML\n",
    "\n",
    "HTML('''<script>\n",
    "code_show=true; \n",
    "function code_toggle() {\n",
    " if (code_show){\n",
    " $('div.input').hide();\n",
    " } else {\n",
    " $('div.input').show();\n",
    " }\n",
    " code_show = !code_show\n",
    "} \n",
    "$( document ).ready(code_toggle);\n",
    "</script>\n",
    "<form action=\"javascript:code_toggle()\"><input type=\"submit\" value=\"Click here to toggle on/off the raw code.\"></form>''')"
   ]
  },
  {
   "cell_type": "markdown",
   "metadata": {},
   "source": [
    "In a Stroop task, people say aloud the ink color for each word in a list, and the total time needed to do so is measured.\n",
    "\n",
    "There are two lists of words, all of which are color names. In the \"congruent\" list, the ink color matches the color words: for example <font color=\"red\">RED</font> <font color=\"blue\">BLUE</font>. In the \"incongruent\" list, the ink color does not match the color words: for example <font color=\"green\">YELLOW</font> <font color=\"orange\">PURPLE</font>.\n",
    "\n",
    "This report will analyze the effects of color words' congruence or incongruence on participants' times. Specifically, it will analyze measurements from 24 participants, each of whom was presented with both a list of congruent and a list of incongruent color words."
   ]
  },
  {
   "cell_type": "markdown",
   "metadata": {},
   "source": [
    "## Variables\n",
    "\n",
    "The independent variable is the congruence or incongruence of ink color with the list of color words. The dependent variable is the amount of time needed for a participant to say aloud the ink color for each list of words."
   ]
  },
  {
   "cell_type": "markdown",
   "metadata": {},
   "source": [
    "## Hypotheses and Appropriate Test\n",
    "\n",
    "The null hypothesis is that the time needed to say aloud the ink colors will be the same for the lists of congruent and incongruent color words. \n",
    "\n",
    "How we frame the alternative hypothesis depends on what results would interest us. I suspect that it takes study participants longer to say aloud incongruent color words, but I'm not certain about that possibility and would be interested if the results showed the opposite were true. For that reason, it makes sense to analyze whether the population mean time to say aloud ink color for congruent words, $\\mu_{C}$, does not equal the population mean time to say aloud ink color for incongruent words, $\\mu_{I}$. In mathematical terms, it makes sense to analyse whether $\\mu_{C} \\neq \\mu_{I}$, rather than only analyzing whether $\\mu_{I} > \\mu_{C}$. \n",
    "\n",
    "Therefore, the alternative hypothesis is that the time needed to say aloud the ink colors will be different for the lists of congruent and incongruent color words."
   ]
  },
  {
   "cell_type": "markdown",
   "metadata": {},
   "source": [
    "$H_{0}: \\mu_{C} = \\mu_{I}$<br>\n",
    "$H_{A}: \\mu_{C} \\neq \\mu_{I}$"
   ]
  },
  {
   "cell_type": "markdown",
   "metadata": {},
   "source": [
    "We don't know the population parameters&mdash;i.e. the average time for all people in the world to complete the Stroop task. When we only have a sample, the appropriate statistical measure is a t-test. Since the alternative hypothesis is that $\\mu_{C} \\neq \\mu_{I}$, rather than that $\\mu_{I} > \\mu_{C}$, or vice-versa, a two-tailed t-test is appropriate.\n",
    "\n",
    "This is a \"within-subjects\" study design since the same study participants were presented with both lists. Therefore, a dependent t-test is appropriate.\n",
    "\n",
    "More specifically, because we are interested in the difference between two sets of times, a dependent paired t-test is appropriate. Since we are focused on the difference in times, it will be useful to rewrite the hypotheses in terms of the mean difference. Let's define the mean difference, $\\mu_{D}$, as follows:\n",
    "\n",
    "$\\mu_{D} = \\mu_{I} - \\mu_{C}$\n",
    "\n",
    "Now the hypotheses can be rewritten as follows:"
   ]
  },
  {
   "cell_type": "markdown",
   "metadata": {},
   "source": [
    "$H_{0}: \\mu_{D} = 0$<br>\n",
    "$H_{A}: \\mu_{D} \\neq 0$"
   ]
  },
  {
   "cell_type": "markdown",
   "metadata": {},
   "source": [
    "## Descriptive Statistics and Distribution of Data"
   ]
  },
  {
   "cell_type": "code",
   "execution_count": 10,
   "metadata": {
    "collapsed": true
   },
   "outputs": [],
   "source": [
    "stroop = pd.read_csv('stroopdata.csv')\n",
    "stroop['Difference'] = stroop['Incongruent'] - stroop['Congruent']\n",
    "\n",
    "D = pd.Series(stroop['Difference'])"
   ]
  },
  {
   "cell_type": "markdown",
   "metadata": {},
   "source": [
    "Mean of Differences in Time:"
   ]
  },
  {
   "cell_type": "markdown",
   "metadata": {},
   "source": [
    "$\\bar{x}_{D} = \\sqrt{\\frac{\\sum x_{i}}{n}}$<br>"
   ]
  },
  {
   "cell_type": "code",
   "execution_count": 17,
   "metadata": {},
   "outputs": [
    {
     "name": "stdout",
     "output_type": "stream",
     "text": [
      "7.96\n"
     ]
    }
   ],
   "source": [
    "print('{:.2f}'.format(D.mean()))"
   ]
  },
  {
   "cell_type": "markdown",
   "metadata": {},
   "source": [
    "Sample Standard Deviation of Differences in Time:"
   ]
  },
  {
   "cell_type": "markdown",
   "metadata": {},
   "source": [
    "$s_{D} = \\sqrt{\\frac{\\sum(\\bar{x}_{D} - x_{i})^{2}}{n - 1}}$<br>"
   ]
  },
  {
   "cell_type": "code",
   "execution_count": 39,
   "metadata": {},
   "outputs": [
    {
     "name": "stdout",
     "output_type": "stream",
     "text": [
      "4.86\n"
     ]
    }
   ],
   "source": [
    "s_D = np.std(D, ddof=1)\n",
    "print('{:.2f}'.format(s_D))"
   ]
  },
  {
   "cell_type": "markdown",
   "metadata": {},
   "source": [
    "Below is a histogram chart for the differences in times for the study participants completing the Stroop tasks."
   ]
  },
  {
   "cell_type": "code",
   "execution_count": 37,
   "metadata": {},
   "outputs": [
    {
     "data": {
      "image/png": "[encoded data removed]",
      "text/plain": [
       "<matplotlib.figure.Figure at 0x1198fe7b8>"
      ]
     },
     "metadata": {},
     "output_type": "display_data"
    }
   ],
   "source": [
    "plt.hist(D, bins=22, range=(0,22))\n",
    "plt.title(\"Differences in Times for Stroop Tasks\")\n",
    "\n",
    "ax = plt.gca()\n",
    "ax.yaxis.set_major_locator(ticker.MultipleLocator(1))\n",
    "ax.xaxis.set_minor_locator(ticker.MultipleLocator(1))\n",
    "\n",
    "plt.show()"
   ]
  },
  {
   "cell_type": "markdown",
   "metadata": {},
   "source": [
    "The most obvious take-away from the graph is that all of the differences in times for the stroop tasks are positive values. That means that every study participant took longer to say aloud the ink color in the list of incongruent color words compared to the congruent color words.\n",
    "\n",
    "The other observations relate to the shape of the distribution. This isn't a clean normal distribution, but most of the data is clumped within 3 to 5 seconds of the mean and the data isn't clearly skewed in either direction. There are two values far to the right of the other datapoints, though it's unclear whether they qualify as outliers.\n",
    "\n",
    "The t-test is designed for normally distributed data. While this data isn't perfectly normally distributed, it appears close enough that the use of the t-test is still appropriate."
   ]
  },
  {
   "cell_type": "markdown",
   "metadata": {},
   "source": [
    "## t-Test"
   ]
  },
  {
   "cell_type": "markdown",
   "metadata": {},
   "source": [
    "Conducting a t-test requires first finding the standard error of the mean, which is an estimate of how far the sample mean is likely to be from the population mean."
   ]
  },
  {
   "cell_type": "markdown",
   "metadata": {},
   "source": [
    "Standard Error of the Mean:"
   ]
  },
  {
   "cell_type": "code",
   "execution_count": 53,
   "metadata": {},
   "outputs": [
    {
     "name": "stdout",
     "output_type": "stream",
     "text": [
      "0.99\n"
     ]
    }
   ],
   "source": [
    "SEM_D = stats.sem(D)\n",
    "print('{:.2f}'.format(SEM_D))"
   ]
  },
  {
   "cell_type": "markdown",
   "metadata": {},
   "source": [
    "The t-value is computed using the sample mean, the expected population mean, and the standard error of the mean. In this case, because the null hypothesis is that there will be no difference between the times to say aloud ink color for congruent and incongruent words, the expected population mean is zero."
   ]
  },
  {
   "cell_type": "markdown",
   "metadata": {},
   "source": [
    "$t = \\frac{\\bar{x}_D - \\mu_{D}}{SEM}$<br><br>\n",
    "$t = \\frac{7.96 - 0}{0.99}$"
   ]
  },
  {
   "cell_type": "code",
   "execution_count": 58,
   "metadata": {},
   "outputs": [
    {
     "name": "stdout",
     "output_type": "stream",
     "text": [
      "8.021\n"
     ]
    }
   ],
   "source": [
    "t, p = stats.ttest_1samp(D, 0)\n",
    "print('{:.3f}'.format(t))"
   ]
  },
  {
   "cell_type": "markdown",
   "metadata": {},
   "source": [
    "The probability value, or p-value, is the smallest level of significance at which the null hypothesis could be rejected. A t-value of 8.021 corresponds to the following p-value:"
   ]
  },
  {
   "cell_type": "code",
   "execution_count": 72,
   "metadata": {},
   "outputs": [
    {
     "name": "stdout",
     "output_type": "stream",
     "text": [
      "4.10E-08\n"
     ]
    }
   ],
   "source": [
    "print('{:.2E}'.format(p))"
   ]
  },
  {
   "cell_type": "markdown",
   "metadata": {},
   "source": [
    "#### Confidence Interval"
   ]
  },
  {
   "cell_type": "markdown",
   "metadata": {},
   "source": [
    "Oftentimes, it's useful to determine the confidence interval for a sample mean. In other words, at a given significance level, or $\\alpha$, what is the range of values in which the true population mean can be expected to fall.\n",
    "\n",
    "Here, the t-value is so high that it's clear the results are going to be statistically significant at all common values of $\\alpha$. For that reason, I'm going to calculate the confidence interval using $\\alpha = 0.001$.\n",
    "\n",
    "By consulting a [t-table](https://s3.amazonaws.com/udacity-hosted-downloads/t-table.jpg) and using the below values for $\\alpha$ and degrees of freedom, we arrive at the following t-critical value, or $t_{C}$:\n",
    "\n",
    "$\\alpha = 0.001$<br><br>\n",
    "$df = n - 1 = 24 - 1 = 23$<br><br>\n",
    "$t_{C} = 3.768$\n",
    "\n",
    "Note: Even though the $\\alpha$ is 0.001, the correct value for $\\alpha$ in the t-table is 0.0005. That's because this is a two-tailed t-test, so the $\\alpha$ is split between the two tails.\n",
    "\n",
    "To find the confidence interval, we next compute the margin of error, then apply the margin of error to the sample mean. Using an $\\alpha$ of 0.001 will result in a 99.9% confidence interval.\n",
    "\n",
    "$MOE = t_{C} * SEM$"
   ]
  },
  {
   "cell_type": "code",
   "execution_count": 70,
   "metadata": {},
   "outputs": [
    {
     "name": "stdout",
     "output_type": "stream",
     "text": [
      "3.74\n"
     ]
    }
   ],
   "source": [
    "MOE_D = 3.768 * SEM_D\n",
    "print('{:.2f}'.format(MOE_D))"
   ]
  },
  {
   "cell_type": "markdown",
   "metadata": {},
   "source": [
    "$CI: \\bar{x}_D\\: \\pm\\: MOE$"
   ]
  },
  {
   "cell_type": "code",
   "execution_count": 69,
   "metadata": {},
   "outputs": [
    {
     "name": "stdout",
     "output_type": "stream",
     "text": [
      "Confidence Interval: 4.22 to 11.71\n"
     ]
    }
   ],
   "source": [
    "CI_low, CI_high = (D.mean() - MOE_D, D.mean() + MOE_D)\n",
    "print('Confidence Interval: %.2f to %.2f' % (CI_low, CI_high))"
   ]
  },
  {
   "cell_type": "markdown",
   "metadata": {},
   "source": [
    "#### Analysis of t-Test and Confidence Interval"
   ]
  },
  {
   "cell_type": "markdown",
   "metadata": {},
   "source": [
    "$t_{D}$ exceeds $t_{C}$ at an $\\alpha$-value of 0.001, meaning the results are statistically signficant. To conceputalize the results another way, the expected population mean of 0 falls outside the 99.9% confidence interval for the population mean based on the sample mean. \n",
    "\n",
    "Based on these results, we can reject the null hypothesis. \n",
    "\n",
    "Looking at the direction in which the $t_{D}$ exceeded $t_{C}$, we can conclude it's likely that it takes people longer to say aloud ink color in a list of incongruent color words as opposed to a list of congruent color words."
   ]
  },
  {
   "cell_type": "markdown",
   "metadata": {},
   "source": [
    "## Conclusions"
   ]
  },
  {
   "cell_type": "markdown",
   "metadata": {},
   "source": [
    "The results suggest that it takes people longer to say aloud ink colors in a list of incongruent color words like <font color=\"green\">YELLOW</font> <font color=\"orange\">PURPLE</font>, as opposed from ink colors in a list of congruent color words like <font color=\"red\">RED</font> <font color=\"blue\">BLUE</font>. This matched my expectations. \n",
    "\n",
    "I don't know the exact biological mechanism for the Stroop effect. Broadly speaking, it appears that when the brain receives conflicting input, it takes the brain longer to retrieve the desired input. Regardless of the biological mechanism, this analysis suggests that the Stroop effect is real. "
   ]
  }
 ],
 "metadata": {
  "kernelspec": {
   "display_name": "Python 3",
   "language": "python",
   "name": "python3"
  },
  "language_info": {
   "codemirror_mode": {
    "name": "ipython",
    "version": 3
   },
   "file_extension": ".py",
   "mimetype": "text/x-python",
   "name": "python",
   "nbconvert_exporter": "python",
   "pygments_lexer": "ipython3",
   "version": "3.6.1"
  }
 },
 "nbformat": 4,
 "nbformat_minor": 2
}
